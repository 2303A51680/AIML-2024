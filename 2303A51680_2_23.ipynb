{
  "nbformat": 4,
  "nbformat_minor": 0,
  "metadata": {
    "colab": {
      "provenance": [],
      "authorship_tag": "ABX9TyPp3Ku4i03UkQ9pbKLoj/Q5",
      "include_colab_link": true
    },
    "kernelspec": {
      "name": "python3",
      "display_name": "Python 3"
    },
    "language_info": {
      "name": "python"
    }
  },
  "cells": [
    {
      "cell_type": "markdown",
      "metadata": {
        "id": "view-in-github",
        "colab_type": "text"
      },
      "source": [
        "<a href=\"https://colab.research.google.com/github/2303A51680/AIML-2024/blob/main/2303A51680_2_23.ipynb\" target=\"_parent\"><img src=\"https://colab.research.google.com/assets/colab-badge.svg\" alt=\"Open In Colab\"/></a>"
      ]
    },
    {
      "cell_type": "markdown",
      "source": [
        "Install required libraries"
      ],
      "metadata": {
        "id": "4edxSbABCnMR"
      }
    },
    {
      "cell_type": "code",
      "source": [
        "!pip install pandas scikit-learn matplotlib seaborn openpyxl xlrd"
      ],
      "metadata": {
        "colab": {
          "base_uri": "https://localhost:8080/"
        },
        "id": "VcRPhWjPCnvB",
        "outputId": "f5573df8-9850-42f3-a2b0-9ed442e2aa45"
      },
      "execution_count": 31,
      "outputs": [
        {
          "output_type": "stream",
          "name": "stdout",
          "text": [
            "Requirement already satisfied: pandas in /usr/local/lib/python3.10/dist-packages (2.2.2)\n",
            "Requirement already satisfied: scikit-learn in /usr/local/lib/python3.10/dist-packages (1.5.2)\n",
            "Requirement already satisfied: matplotlib in /usr/local/lib/python3.10/dist-packages (3.8.0)\n",
            "Requirement already satisfied: seaborn in /usr/local/lib/python3.10/dist-packages (0.13.2)\n",
            "Requirement already satisfied: openpyxl in /usr/local/lib/python3.10/dist-packages (3.1.5)\n",
            "Requirement already satisfied: xlrd in /usr/local/lib/python3.10/dist-packages (2.0.1)\n",
            "Requirement already satisfied: numpy>=1.22.4 in /usr/local/lib/python3.10/dist-packages (from pandas) (1.26.4)\n",
            "Requirement already satisfied: python-dateutil>=2.8.2 in /usr/local/lib/python3.10/dist-packages (from pandas) (2.8.2)\n",
            "Requirement already satisfied: pytz>=2020.1 in /usr/local/lib/python3.10/dist-packages (from pandas) (2024.2)\n",
            "Requirement already satisfied: tzdata>=2022.7 in /usr/local/lib/python3.10/dist-packages (from pandas) (2024.2)\n",
            "Requirement already satisfied: scipy>=1.6.0 in /usr/local/lib/python3.10/dist-packages (from scikit-learn) (1.13.1)\n",
            "Requirement already satisfied: joblib>=1.2.0 in /usr/local/lib/python3.10/dist-packages (from scikit-learn) (1.4.2)\n",
            "Requirement already satisfied: threadpoolctl>=3.1.0 in /usr/local/lib/python3.10/dist-packages (from scikit-learn) (3.5.0)\n",
            "Requirement already satisfied: contourpy>=1.0.1 in /usr/local/lib/python3.10/dist-packages (from matplotlib) (1.3.1)\n",
            "Requirement already satisfied: cycler>=0.10 in /usr/local/lib/python3.10/dist-packages (from matplotlib) (0.12.1)\n",
            "Requirement already satisfied: fonttools>=4.22.0 in /usr/local/lib/python3.10/dist-packages (from matplotlib) (4.55.0)\n",
            "Requirement already satisfied: kiwisolver>=1.0.1 in /usr/local/lib/python3.10/dist-packages (from matplotlib) (1.4.7)\n",
            "Requirement already satisfied: packaging>=20.0 in /usr/local/lib/python3.10/dist-packages (from matplotlib) (24.2)\n",
            "Requirement already satisfied: pillow>=6.2.0 in /usr/local/lib/python3.10/dist-packages (from matplotlib) (11.0.0)\n",
            "Requirement already satisfied: pyparsing>=2.3.1 in /usr/local/lib/python3.10/dist-packages (from matplotlib) (3.2.0)\n",
            "Requirement already satisfied: et-xmlfile in /usr/local/lib/python3.10/dist-packages (from openpyxl) (2.0.0)\n",
            "Requirement already satisfied: six>=1.5 in /usr/local/lib/python3.10/dist-packages (from python-dateutil>=2.8.2->pandas) (1.16.0)\n"
          ]
        }
      ]
    },
    {
      "cell_type": "markdown",
      "source": [
        "Import libraries"
      ],
      "metadata": {
        "id": "qstta513Cv8I"
      }
    },
    {
      "cell_type": "code",
      "source": [
        "import pandas as pd\n",
        "import matplotlib.pyplot as plt\n",
        "import seaborn as sns\n",
        "from sklearn.cluster import KMeans\n",
        "from sklearn.preprocessing import LabelEncoder\n"
      ],
      "metadata": {
        "id": "tMEy81aBCwmm"
      },
      "execution_count": 32,
      "outputs": []
    },
    {
      "cell_type": "markdown",
      "source": [
        "Load dataset"
      ],
      "metadata": {
        "id": "P-BDRnk_C2C_"
      }
    },
    {
      "cell_type": "code",
      "source": [
        "data=pd.read_csv('/content/Absenteeism_at_work.csv')\n",
        "data.head()"
      ],
      "metadata": {
        "colab": {
          "base_uri": "https://localhost:8080/",
          "height": 308
        },
        "id": "3oc7-BTNFhhD",
        "outputId": "8be66ed9-0fef-4190-c3b5-7df7745bb3d2"
      },
      "execution_count": 42,
      "outputs": [
        {
          "output_type": "execute_result",
          "data": {
            "text/plain": [
              "   ID  Reason for absence  Month of absence  Day of the week  Seasons  \\\n",
              "0  11                  26                 7                3        1   \n",
              "1  36                   0                 7                3        1   \n",
              "2   3                  23                 7                4        1   \n",
              "3   7                   7                 7                5        1   \n",
              "4  11                  23                 7                5        1   \n",
              "\n",
              "   Transportation expense  Distance from Residence to Work  Service time  Age  \\\n",
              "0                     289                               36            13   33   \n",
              "1                     118                               13            18   50   \n",
              "2                     179                               51            18   38   \n",
              "3                     279                                5            14   39   \n",
              "4                     289                               36            13   33   \n",
              "\n",
              "  Work load Average/day   ...  Disciplinary failure  Education  Son  \\\n",
              "0                239,554  ...                     0          1    2   \n",
              "1                239,554  ...                     1          1    1   \n",
              "2                239,554  ...                     0          1    0   \n",
              "3                239,554  ...                     0          1    2   \n",
              "4                239,554  ...                     0          1    2   \n",
              "\n",
              "   Social drinker  Social smoker  Pet  Weight  Height  Body mass index  \\\n",
              "0               1              0    1      90     172               30   \n",
              "1               1              0    0      98     178               31   \n",
              "2               1              0    0      89     170               31   \n",
              "3               1              1    0      68     168               24   \n",
              "4               1              0    1      90     172               30   \n",
              "\n",
              "   Absenteeism time in hours  \n",
              "0                          4  \n",
              "1                          0  \n",
              "2                          2  \n",
              "3                          4  \n",
              "4                          2  \n",
              "\n",
              "[5 rows x 21 columns]"
            ],
            "text/html": [
              "\n",
              "  <div id=\"df-48699de4-2c54-46c8-9495-53c005f07f54\" class=\"colab-df-container\">\n",
              "    <div>\n",
              "<style scoped>\n",
              "    .dataframe tbody tr th:only-of-type {\n",
              "        vertical-align: middle;\n",
              "    }\n",
              "\n",
              "    .dataframe tbody tr th {\n",
              "        vertical-align: top;\n",
              "    }\n",
              "\n",
              "    .dataframe thead th {\n",
              "        text-align: right;\n",
              "    }\n",
              "</style>\n",
              "<table border=\"1\" class=\"dataframe\">\n",
              "  <thead>\n",
              "    <tr style=\"text-align: right;\">\n",
              "      <th></th>\n",
              "      <th>ID</th>\n",
              "      <th>Reason for absence</th>\n",
              "      <th>Month of absence</th>\n",
              "      <th>Day of the week</th>\n",
              "      <th>Seasons</th>\n",
              "      <th>Transportation expense</th>\n",
              "      <th>Distance from Residence to Work</th>\n",
              "      <th>Service time</th>\n",
              "      <th>Age</th>\n",
              "      <th>Work load Average/day</th>\n",
              "      <th>...</th>\n",
              "      <th>Disciplinary failure</th>\n",
              "      <th>Education</th>\n",
              "      <th>Son</th>\n",
              "      <th>Social drinker</th>\n",
              "      <th>Social smoker</th>\n",
              "      <th>Pet</th>\n",
              "      <th>Weight</th>\n",
              "      <th>Height</th>\n",
              "      <th>Body mass index</th>\n",
              "      <th>Absenteeism time in hours</th>\n",
              "    </tr>\n",
              "  </thead>\n",
              "  <tbody>\n",
              "    <tr>\n",
              "      <th>0</th>\n",
              "      <td>11</td>\n",
              "      <td>26</td>\n",
              "      <td>7</td>\n",
              "      <td>3</td>\n",
              "      <td>1</td>\n",
              "      <td>289</td>\n",
              "      <td>36</td>\n",
              "      <td>13</td>\n",
              "      <td>33</td>\n",
              "      <td>239,554</td>\n",
              "      <td>...</td>\n",
              "      <td>0</td>\n",
              "      <td>1</td>\n",
              "      <td>2</td>\n",
              "      <td>1</td>\n",
              "      <td>0</td>\n",
              "      <td>1</td>\n",
              "      <td>90</td>\n",
              "      <td>172</td>\n",
              "      <td>30</td>\n",
              "      <td>4</td>\n",
              "    </tr>\n",
              "    <tr>\n",
              "      <th>1</th>\n",
              "      <td>36</td>\n",
              "      <td>0</td>\n",
              "      <td>7</td>\n",
              "      <td>3</td>\n",
              "      <td>1</td>\n",
              "      <td>118</td>\n",
              "      <td>13</td>\n",
              "      <td>18</td>\n",
              "      <td>50</td>\n",
              "      <td>239,554</td>\n",
              "      <td>...</td>\n",
              "      <td>1</td>\n",
              "      <td>1</td>\n",
              "      <td>1</td>\n",
              "      <td>1</td>\n",
              "      <td>0</td>\n",
              "      <td>0</td>\n",
              "      <td>98</td>\n",
              "      <td>178</td>\n",
              "      <td>31</td>\n",
              "      <td>0</td>\n",
              "    </tr>\n",
              "    <tr>\n",
              "      <th>2</th>\n",
              "      <td>3</td>\n",
              "      <td>23</td>\n",
              "      <td>7</td>\n",
              "      <td>4</td>\n",
              "      <td>1</td>\n",
              "      <td>179</td>\n",
              "      <td>51</td>\n",
              "      <td>18</td>\n",
              "      <td>38</td>\n",
              "      <td>239,554</td>\n",
              "      <td>...</td>\n",
              "      <td>0</td>\n",
              "      <td>1</td>\n",
              "      <td>0</td>\n",
              "      <td>1</td>\n",
              "      <td>0</td>\n",
              "      <td>0</td>\n",
              "      <td>89</td>\n",
              "      <td>170</td>\n",
              "      <td>31</td>\n",
              "      <td>2</td>\n",
              "    </tr>\n",
              "    <tr>\n",
              "      <th>3</th>\n",
              "      <td>7</td>\n",
              "      <td>7</td>\n",
              "      <td>7</td>\n",
              "      <td>5</td>\n",
              "      <td>1</td>\n",
              "      <td>279</td>\n",
              "      <td>5</td>\n",
              "      <td>14</td>\n",
              "      <td>39</td>\n",
              "      <td>239,554</td>\n",
              "      <td>...</td>\n",
              "      <td>0</td>\n",
              "      <td>1</td>\n",
              "      <td>2</td>\n",
              "      <td>1</td>\n",
              "      <td>1</td>\n",
              "      <td>0</td>\n",
              "      <td>68</td>\n",
              "      <td>168</td>\n",
              "      <td>24</td>\n",
              "      <td>4</td>\n",
              "    </tr>\n",
              "    <tr>\n",
              "      <th>4</th>\n",
              "      <td>11</td>\n",
              "      <td>23</td>\n",
              "      <td>7</td>\n",
              "      <td>5</td>\n",
              "      <td>1</td>\n",
              "      <td>289</td>\n",
              "      <td>36</td>\n",
              "      <td>13</td>\n",
              "      <td>33</td>\n",
              "      <td>239,554</td>\n",
              "      <td>...</td>\n",
              "      <td>0</td>\n",
              "      <td>1</td>\n",
              "      <td>2</td>\n",
              "      <td>1</td>\n",
              "      <td>0</td>\n",
              "      <td>1</td>\n",
              "      <td>90</td>\n",
              "      <td>172</td>\n",
              "      <td>30</td>\n",
              "      <td>2</td>\n",
              "    </tr>\n",
              "  </tbody>\n",
              "</table>\n",
              "<p>5 rows × 21 columns</p>\n",
              "</div>\n",
              "    <div class=\"colab-df-buttons\">\n",
              "\n",
              "  <div class=\"colab-df-container\">\n",
              "    <button class=\"colab-df-convert\" onclick=\"convertToInteractive('df-48699de4-2c54-46c8-9495-53c005f07f54')\"\n",
              "            title=\"Convert this dataframe to an interactive table.\"\n",
              "            style=\"display:none;\">\n",
              "\n",
              "  <svg xmlns=\"http://www.w3.org/2000/svg\" height=\"24px\" viewBox=\"0 -960 960 960\">\n",
              "    <path d=\"M120-120v-720h720v720H120Zm60-500h600v-160H180v160Zm220 220h160v-160H400v160Zm0 220h160v-160H400v160ZM180-400h160v-160H180v160Zm440 0h160v-160H620v160ZM180-180h160v-160H180v160Zm440 0h160v-160H620v160Z\"/>\n",
              "  </svg>\n",
              "    </button>\n",
              "\n",
              "  <style>\n",
              "    .colab-df-container {\n",
              "      display:flex;\n",
              "      gap: 12px;\n",
              "    }\n",
              "\n",
              "    .colab-df-convert {\n",
              "      background-color: #E8F0FE;\n",
              "      border: none;\n",
              "      border-radius: 50%;\n",
              "      cursor: pointer;\n",
              "      display: none;\n",
              "      fill: #1967D2;\n",
              "      height: 32px;\n",
              "      padding: 0 0 0 0;\n",
              "      width: 32px;\n",
              "    }\n",
              "\n",
              "    .colab-df-convert:hover {\n",
              "      background-color: #E2EBFA;\n",
              "      box-shadow: 0px 1px 2px rgba(60, 64, 67, 0.3), 0px 1px 3px 1px rgba(60, 64, 67, 0.15);\n",
              "      fill: #174EA6;\n",
              "    }\n",
              "\n",
              "    .colab-df-buttons div {\n",
              "      margin-bottom: 4px;\n",
              "    }\n",
              "\n",
              "    [theme=dark] .colab-df-convert {\n",
              "      background-color: #3B4455;\n",
              "      fill: #D2E3FC;\n",
              "    }\n",
              "\n",
              "    [theme=dark] .colab-df-convert:hover {\n",
              "      background-color: #434B5C;\n",
              "      box-shadow: 0px 1px 3px 1px rgba(0, 0, 0, 0.15);\n",
              "      filter: drop-shadow(0px 1px 2px rgba(0, 0, 0, 0.3));\n",
              "      fill: #FFFFFF;\n",
              "    }\n",
              "  </style>\n",
              "\n",
              "    <script>\n",
              "      const buttonEl =\n",
              "        document.querySelector('#df-48699de4-2c54-46c8-9495-53c005f07f54 button.colab-df-convert');\n",
              "      buttonEl.style.display =\n",
              "        google.colab.kernel.accessAllowed ? 'block' : 'none';\n",
              "\n",
              "      async function convertToInteractive(key) {\n",
              "        const element = document.querySelector('#df-48699de4-2c54-46c8-9495-53c005f07f54');\n",
              "        const dataTable =\n",
              "          await google.colab.kernel.invokeFunction('convertToInteractive',\n",
              "                                                    [key], {});\n",
              "        if (!dataTable) return;\n",
              "\n",
              "        const docLinkHtml = 'Like what you see? Visit the ' +\n",
              "          '<a target=\"_blank\" href=https://colab.research.google.com/notebooks/data_table.ipynb>data table notebook</a>'\n",
              "          + ' to learn more about interactive tables.';\n",
              "        element.innerHTML = '';\n",
              "        dataTable['output_type'] = 'display_data';\n",
              "        await google.colab.output.renderOutput(dataTable, element);\n",
              "        const docLink = document.createElement('div');\n",
              "        docLink.innerHTML = docLinkHtml;\n",
              "        element.appendChild(docLink);\n",
              "      }\n",
              "    </script>\n",
              "  </div>\n",
              "\n",
              "\n",
              "<div id=\"df-871272e4-1e14-4ef0-9d21-ad77be2be159\">\n",
              "  <button class=\"colab-df-quickchart\" onclick=\"quickchart('df-871272e4-1e14-4ef0-9d21-ad77be2be159')\"\n",
              "            title=\"Suggest charts\"\n",
              "            style=\"display:none;\">\n",
              "\n",
              "<svg xmlns=\"http://www.w3.org/2000/svg\" height=\"24px\"viewBox=\"0 0 24 24\"\n",
              "     width=\"24px\">\n",
              "    <g>\n",
              "        <path d=\"M19 3H5c-1.1 0-2 .9-2 2v14c0 1.1.9 2 2 2h14c1.1 0 2-.9 2-2V5c0-1.1-.9-2-2-2zM9 17H7v-7h2v7zm4 0h-2V7h2v10zm4 0h-2v-4h2v4z\"/>\n",
              "    </g>\n",
              "</svg>\n",
              "  </button>\n",
              "\n",
              "<style>\n",
              "  .colab-df-quickchart {\n",
              "      --bg-color: #E8F0FE;\n",
              "      --fill-color: #1967D2;\n",
              "      --hover-bg-color: #E2EBFA;\n",
              "      --hover-fill-color: #174EA6;\n",
              "      --disabled-fill-color: #AAA;\n",
              "      --disabled-bg-color: #DDD;\n",
              "  }\n",
              "\n",
              "  [theme=dark] .colab-df-quickchart {\n",
              "      --bg-color: #3B4455;\n",
              "      --fill-color: #D2E3FC;\n",
              "      --hover-bg-color: #434B5C;\n",
              "      --hover-fill-color: #FFFFFF;\n",
              "      --disabled-bg-color: #3B4455;\n",
              "      --disabled-fill-color: #666;\n",
              "  }\n",
              "\n",
              "  .colab-df-quickchart {\n",
              "    background-color: var(--bg-color);\n",
              "    border: none;\n",
              "    border-radius: 50%;\n",
              "    cursor: pointer;\n",
              "    display: none;\n",
              "    fill: var(--fill-color);\n",
              "    height: 32px;\n",
              "    padding: 0;\n",
              "    width: 32px;\n",
              "  }\n",
              "\n",
              "  .colab-df-quickchart:hover {\n",
              "    background-color: var(--hover-bg-color);\n",
              "    box-shadow: 0 1px 2px rgba(60, 64, 67, 0.3), 0 1px 3px 1px rgba(60, 64, 67, 0.15);\n",
              "    fill: var(--button-hover-fill-color);\n",
              "  }\n",
              "\n",
              "  .colab-df-quickchart-complete:disabled,\n",
              "  .colab-df-quickchart-complete:disabled:hover {\n",
              "    background-color: var(--disabled-bg-color);\n",
              "    fill: var(--disabled-fill-color);\n",
              "    box-shadow: none;\n",
              "  }\n",
              "\n",
              "  .colab-df-spinner {\n",
              "    border: 2px solid var(--fill-color);\n",
              "    border-color: transparent;\n",
              "    border-bottom-color: var(--fill-color);\n",
              "    animation:\n",
              "      spin 1s steps(1) infinite;\n",
              "  }\n",
              "\n",
              "  @keyframes spin {\n",
              "    0% {\n",
              "      border-color: transparent;\n",
              "      border-bottom-color: var(--fill-color);\n",
              "      border-left-color: var(--fill-color);\n",
              "    }\n",
              "    20% {\n",
              "      border-color: transparent;\n",
              "      border-left-color: var(--fill-color);\n",
              "      border-top-color: var(--fill-color);\n",
              "    }\n",
              "    30% {\n",
              "      border-color: transparent;\n",
              "      border-left-color: var(--fill-color);\n",
              "      border-top-color: var(--fill-color);\n",
              "      border-right-color: var(--fill-color);\n",
              "    }\n",
              "    40% {\n",
              "      border-color: transparent;\n",
              "      border-right-color: var(--fill-color);\n",
              "      border-top-color: var(--fill-color);\n",
              "    }\n",
              "    60% {\n",
              "      border-color: transparent;\n",
              "      border-right-color: var(--fill-color);\n",
              "    }\n",
              "    80% {\n",
              "      border-color: transparent;\n",
              "      border-right-color: var(--fill-color);\n",
              "      border-bottom-color: var(--fill-color);\n",
              "    }\n",
              "    90% {\n",
              "      border-color: transparent;\n",
              "      border-bottom-color: var(--fill-color);\n",
              "    }\n",
              "  }\n",
              "</style>\n",
              "\n",
              "  <script>\n",
              "    async function quickchart(key) {\n",
              "      const quickchartButtonEl =\n",
              "        document.querySelector('#' + key + ' button');\n",
              "      quickchartButtonEl.disabled = true;  // To prevent multiple clicks.\n",
              "      quickchartButtonEl.classList.add('colab-df-spinner');\n",
              "      try {\n",
              "        const charts = await google.colab.kernel.invokeFunction(\n",
              "            'suggestCharts', [key], {});\n",
              "      } catch (error) {\n",
              "        console.error('Error during call to suggestCharts:', error);\n",
              "      }\n",
              "      quickchartButtonEl.classList.remove('colab-df-spinner');\n",
              "      quickchartButtonEl.classList.add('colab-df-quickchart-complete');\n",
              "    }\n",
              "    (() => {\n",
              "      let quickchartButtonEl =\n",
              "        document.querySelector('#df-871272e4-1e14-4ef0-9d21-ad77be2be159 button');\n",
              "      quickchartButtonEl.style.display =\n",
              "        google.colab.kernel.accessAllowed ? 'block' : 'none';\n",
              "    })();\n",
              "  </script>\n",
              "</div>\n",
              "\n",
              "    </div>\n",
              "  </div>\n"
            ],
            "application/vnd.google.colaboratory.intrinsic+json": {
              "type": "dataframe",
              "variable_name": "data"
            }
          },
          "metadata": {},
          "execution_count": 42
        }
      ]
    },
    {
      "cell_type": "markdown",
      "source": [
        "Display basic info"
      ],
      "metadata": {
        "id": "jBiXoBB0F3VV"
      }
    },
    {
      "cell_type": "code",
      "source": [
        "print(\"Dataset Info:\")"
      ],
      "metadata": {
        "colab": {
          "base_uri": "https://localhost:8080/"
        },
        "id": "qY9utGiXFJbx",
        "outputId": "6ae132d1-5fdf-4d4d-bc1f-74623bac8d11"
      },
      "execution_count": 43,
      "outputs": [
        {
          "output_type": "stream",
          "name": "stdout",
          "text": [
            "Dataset Info:\n"
          ]
        }
      ]
    },
    {
      "cell_type": "code",
      "source": [
        "print(data.info())"
      ],
      "metadata": {
        "colab": {
          "base_uri": "https://localhost:8080/"
        },
        "id": "qo7HcnE_F9rL",
        "outputId": "65cf2151-a613-49ba-c93e-140e71dcc22c"
      },
      "execution_count": 44,
      "outputs": [
        {
          "output_type": "stream",
          "name": "stdout",
          "text": [
            "<class 'pandas.core.frame.DataFrame'>\n",
            "RangeIndex: 740 entries, 0 to 739\n",
            "Data columns (total 21 columns):\n",
            " #   Column                           Non-Null Count  Dtype \n",
            "---  ------                           --------------  ----- \n",
            " 0   ID                               740 non-null    int64 \n",
            " 1   Reason for absence               740 non-null    int64 \n",
            " 2   Month of absence                 740 non-null    int64 \n",
            " 3   Day of the week                  740 non-null    int64 \n",
            " 4   Seasons                          740 non-null    int64 \n",
            " 5   Transportation expense           740 non-null    int64 \n",
            " 6   Distance from Residence to Work  740 non-null    int64 \n",
            " 7   Service time                     740 non-null    int64 \n",
            " 8   Age                              740 non-null    int64 \n",
            " 9   Work load Average/day            740 non-null    object\n",
            " 10  Hit target                       740 non-null    int64 \n",
            " 11  Disciplinary failure             740 non-null    int64 \n",
            " 12  Education                        740 non-null    int64 \n",
            " 13  Son                              740 non-null    int64 \n",
            " 14  Social drinker                   740 non-null    int64 \n",
            " 15  Social smoker                    740 non-null    int64 \n",
            " 16  Pet                              740 non-null    int64 \n",
            " 17  Weight                           740 non-null    int64 \n",
            " 18  Height                           740 non-null    int64 \n",
            " 19  Body mass index                  740 non-null    int64 \n",
            " 20  Absenteeism time in hours        740 non-null    int64 \n",
            "dtypes: int64(20), object(1)\n",
            "memory usage: 121.5+ KB\n",
            "None\n"
          ]
        }
      ]
    },
    {
      "cell_type": "markdown",
      "source": [
        " Display first few rows"
      ],
      "metadata": {
        "id": "8kyd1NxAGA4B"
      }
    },
    {
      "cell_type": "code",
      "source": [
        "print(\"\\nDataset Preview:\")"
      ],
      "metadata": {
        "colab": {
          "base_uri": "https://localhost:8080/"
        },
        "id": "fDFnpqIxGBVF",
        "outputId": "a7d240c7-e7d4-42b3-e1fc-b34da8b3c0e5"
      },
      "execution_count": 45,
      "outputs": [
        {
          "output_type": "stream",
          "name": "stdout",
          "text": [
            "\n",
            "Dataset Preview:\n"
          ]
        }
      ]
    },
    {
      "cell_type": "code",
      "source": [
        "print(data.head())\n"
      ],
      "metadata": {
        "colab": {
          "base_uri": "https://localhost:8080/"
        },
        "id": "8cDohK6-GG2D",
        "outputId": "483c2aa7-c898-4006-f4e7-824f95d1b79a"
      },
      "execution_count": 46,
      "outputs": [
        {
          "output_type": "stream",
          "name": "stdout",
          "text": [
            "   ID  Reason for absence  Month of absence  Day of the week  Seasons  \\\n",
            "0  11                  26                 7                3        1   \n",
            "1  36                   0                 7                3        1   \n",
            "2   3                  23                 7                4        1   \n",
            "3   7                   7                 7                5        1   \n",
            "4  11                  23                 7                5        1   \n",
            "\n",
            "   Transportation expense  Distance from Residence to Work  Service time  Age  \\\n",
            "0                     289                               36            13   33   \n",
            "1                     118                               13            18   50   \n",
            "2                     179                               51            18   38   \n",
            "3                     279                                5            14   39   \n",
            "4                     289                               36            13   33   \n",
            "\n",
            "  Work load Average/day   ...  Disciplinary failure  Education  Son  \\\n",
            "0                239,554  ...                     0          1    2   \n",
            "1                239,554  ...                     1          1    1   \n",
            "2                239,554  ...                     0          1    0   \n",
            "3                239,554  ...                     0          1    2   \n",
            "4                239,554  ...                     0          1    2   \n",
            "\n",
            "   Social drinker  Social smoker  Pet  Weight  Height  Body mass index  \\\n",
            "0               1              0    1      90     172               30   \n",
            "1               1              0    0      98     178               31   \n",
            "2               1              0    0      89     170               31   \n",
            "3               1              1    0      68     168               24   \n",
            "4               1              0    1      90     172               30   \n",
            "\n",
            "   Absenteeism time in hours  \n",
            "0                          4  \n",
            "1                          0  \n",
            "2                          2  \n",
            "3                          4  \n",
            "4                          2  \n",
            "\n",
            "[5 rows x 21 columns]\n"
          ]
        }
      ]
    },
    {
      "cell_type": "markdown",
      "source": [
        " --- Analysis ---"
      ],
      "metadata": {
        "id": "orPlEG1uGMIX"
      }
    },
    {
      "cell_type": "code",
      "source": [
        "1. Top 5 reasons for absenteeism"
      ],
      "metadata": {
        "id": "2G54RGNDGMf4"
      },
      "execution_count": null,
      "outputs": []
    },
    {
      "cell_type": "code",
      "source": [
        "top_reasons = data['Reason for absence'].value_counts().head(5)"
      ],
      "metadata": {
        "id": "LFz6F_QYGPJK"
      },
      "execution_count": 47,
      "outputs": []
    },
    {
      "cell_type": "code",
      "source": [
        "print(\"\\nTop 5 Reasons for Absenteeism:\")"
      ],
      "metadata": {
        "colab": {
          "base_uri": "https://localhost:8080/"
        },
        "id": "jxoOiqszGTbS",
        "outputId": "3c4de81b-b37d-42d2-db20-04122e527ddc"
      },
      "execution_count": 48,
      "outputs": [
        {
          "output_type": "stream",
          "name": "stdout",
          "text": [
            "\n",
            "Top 5 Reasons for Absenteeism:\n"
          ]
        }
      ]
    },
    {
      "cell_type": "code",
      "source": [
        "print(top_reasons)"
      ],
      "metadata": {
        "colab": {
          "base_uri": "https://localhost:8080/"
        },
        "id": "Vrs-3N27GXl0",
        "outputId": "4e697904-bfea-4f2f-c978-afc71dd724ac"
      },
      "execution_count": 49,
      "outputs": [
        {
          "output_type": "stream",
          "name": "stdout",
          "text": [
            "Reason for absence\n",
            "23    149\n",
            "28    112\n",
            "27     69\n",
            "13     55\n",
            "0      43\n",
            "Name: count, dtype: int64\n"
          ]
        }
      ]
    },
    {
      "cell_type": "markdown",
      "source": [
        " 2. Day of the week with most absenteeism"
      ],
      "metadata": {
        "id": "GjAiDqQpGdgn"
      }
    },
    {
      "cell_type": "code",
      "source": [
        "most_absent_day = data['Day of the week'].value_counts()"
      ],
      "metadata": {
        "id": "qPqtxjuBGd2b"
      },
      "execution_count": 50,
      "outputs": []
    },
    {
      "cell_type": "code",
      "source": [
        "print(\"\\nDay with Most Absenteeism:\")"
      ],
      "metadata": {
        "colab": {
          "base_uri": "https://localhost:8080/"
        },
        "id": "h7NXn5QMGifh",
        "outputId": "3b1120b3-9f50-49f0-b340-6ec85a8c9672"
      },
      "execution_count": 51,
      "outputs": [
        {
          "output_type": "stream",
          "name": "stdout",
          "text": [
            "\n",
            "Day with Most Absenteeism:\n"
          ]
        }
      ]
    },
    {
      "cell_type": "code",
      "source": [
        "print(most_absent_day)"
      ],
      "metadata": {
        "colab": {
          "base_uri": "https://localhost:8080/"
        },
        "id": "V4VbXTJ8Glu4",
        "outputId": "08514ece-9e58-48ad-894b-c9327dffebad"
      },
      "execution_count": 52,
      "outputs": [
        {
          "output_type": "stream",
          "name": "stdout",
          "text": [
            "Day of the week\n",
            "2    161\n",
            "4    156\n",
            "3    154\n",
            "6    144\n",
            "5    125\n",
            "Name: count, dtype: int64\n"
          ]
        }
      ]
    },
    {
      "cell_type": "markdown",
      "source": [
        "3. Minimum and maximum age"
      ],
      "metadata": {
        "id": "5RPqIkW_GvEP"
      }
    },
    {
      "cell_type": "code",
      "source": [
        "min_age = data['Age'].min()"
      ],
      "metadata": {
        "id": "71ZOUiFmGzd9"
      },
      "execution_count": 53,
      "outputs": []
    },
    {
      "cell_type": "code",
      "source": [
        "max_age = data['Age'].max()"
      ],
      "metadata": {
        "id": "bg8DUVyKG10K"
      },
      "execution_count": 54,
      "outputs": []
    },
    {
      "cell_type": "code",
      "source": [
        "print(\"\\nAge Range of Employees:\")"
      ],
      "metadata": {
        "colab": {
          "base_uri": "https://localhost:8080/"
        },
        "id": "clrcm1JyG4UH",
        "outputId": "4ba7f676-d859-455f-d8f2-c540f9317caf"
      },
      "execution_count": 55,
      "outputs": [
        {
          "output_type": "stream",
          "name": "stdout",
          "text": [
            "\n",
            "Age Range of Employees:\n"
          ]
        }
      ]
    },
    {
      "cell_type": "code",
      "source": [
        "print(f\"Minimum Age: {min_age}, Maximum Age: {max_age}\")"
      ],
      "metadata": {
        "colab": {
          "base_uri": "https://localhost:8080/"
        },
        "id": "ruobo1I8HBBG",
        "outputId": "e350b862-8433-42e1-b551-bf2efa8ecfa5"
      },
      "execution_count": 57,
      "outputs": [
        {
          "output_type": "stream",
          "name": "stdout",
          "text": [
            "Minimum Age: 27, Maximum Age: 58\n"
          ]
        }
      ]
    },
    {
      "cell_type": "markdown",
      "source": [
        "4. Seasons with most absenteeism"
      ],
      "metadata": {
        "id": "yXoZSOLNHD74"
      }
    },
    {
      "cell_type": "code",
      "source": [
        "season_absenteeism = data['Seasons'].value_counts()"
      ],
      "metadata": {
        "id": "F9uj1SXfHE7H"
      },
      "execution_count": 58,
      "outputs": []
    },
    {
      "cell_type": "code",
      "source": [
        "print(\"\\nSeasons with Most Absenteeism:\")"
      ],
      "metadata": {
        "colab": {
          "base_uri": "https://localhost:8080/"
        },
        "id": "yjkX_yR5HKy_",
        "outputId": "538f098c-c1c5-484f-fb89-46b6554c491f"
      },
      "execution_count": 59,
      "outputs": [
        {
          "output_type": "stream",
          "name": "stdout",
          "text": [
            "\n",
            "Seasons with Most Absenteeism:\n"
          ]
        }
      ]
    },
    {
      "cell_type": "code",
      "source": [
        "print(season_absenteeism)"
      ],
      "metadata": {
        "colab": {
          "base_uri": "https://localhost:8080/"
        },
        "id": "a8YbOrfWHNQL",
        "outputId": "0122bee5-04e7-4167-a9fb-a7b85b5da667"
      },
      "execution_count": 60,
      "outputs": [
        {
          "output_type": "stream",
          "name": "stdout",
          "text": [
            "Seasons\n",
            "4    195\n",
            "2    192\n",
            "3    183\n",
            "1    170\n",
            "Name: count, dtype: int64\n"
          ]
        }
      ]
    },
    {
      "cell_type": "markdown",
      "source": [
        "5. Highest educational qualification"
      ],
      "metadata": {
        "id": "ktXQAUj4HPmi"
      }
    },
    {
      "cell_type": "markdown",
      "source": [
        "For clustering, we use a subset of numerical data"
      ],
      "metadata": {
        "id": "slgyyCNMHRLy"
      }
    },
    {
      "cell_type": "code",
      "source": [
        "clustering_data = data[['Distance from Residence to Work', 'Age', 'Service time']].dropna()"
      ],
      "metadata": {
        "id": "KNbw3X2AHTOR"
      },
      "execution_count": 61,
      "outputs": []
    },
    {
      "cell_type": "markdown",
      "source": [
        "Normalize the data\n",
        "from sklearn.preprocessing import StandardScaler"
      ],
      "metadata": {
        "id": "iM_2RK6cHXIX"
      }
    },
    {
      "cell_type": "code",
      "source": [
        "scaler = StandardScaler()"
      ],
      "metadata": {
        "id": "Qo8OcGPpHZj_"
      },
      "execution_count": 62,
      "outputs": []
    },
    {
      "cell_type": "code",
      "source": [
        "clustering_data_scaled = scaler.fit_transform(clustering_data)"
      ],
      "metadata": {
        "id": "AKyhW6odHcGE"
      },
      "execution_count": 63,
      "outputs": []
    },
    {
      "cell_type": "markdown",
      "source": [
        "Apply K-Means clustering"
      ],
      "metadata": {
        "id": "FufXY6h0Himy"
      }
    },
    {
      "cell_type": "code",
      "source": [
        "kmeans = KMeans(n_clusters=3, random_state=42)"
      ],
      "metadata": {
        "id": "0Kf-hYd_HlCJ"
      },
      "execution_count": 64,
      "outputs": []
    },
    {
      "cell_type": "code",
      "source": [
        "clusters = kmeans.fit_predict(clustering_data_scaled)\n"
      ],
      "metadata": {
        "id": "K0R0xTNiHnPn"
      },
      "execution_count": 65,
      "outputs": []
    },
    {
      "cell_type": "markdown",
      "source": [
        " Add cluster labels to the dataset\n",
        "clustering_data['Cluster'] = clusters"
      ],
      "metadata": {
        "id": "462suHzyHpuk"
      }
    },
    {
      "cell_type": "markdown",
      "source": [
        "Visualize clusters"
      ],
      "metadata": {
        "id": "juXKUT9MHrbG"
      }
    },
    {
      "cell_type": "code",
      "source": [
        "plt.figure(figsize=(8, 6))"
      ],
      "metadata": {
        "colab": {
          "base_uri": "https://localhost:8080/",
          "height": 52
        },
        "id": "JwVn8rffH_Xs",
        "outputId": "2451b13d-bc03-4b97-864e-e523d39461e1"
      },
      "execution_count": 68,
      "outputs": [
        {
          "output_type": "execute_result",
          "data": {
            "text/plain": [
              "<Figure size 800x600 with 0 Axes>"
            ]
          },
          "metadata": {},
          "execution_count": 68
        },
        {
          "output_type": "display_data",
          "data": {
            "text/plain": [
              "<Figure size 800x600 with 0 Axes>"
            ]
          },
          "metadata": {}
        }
      ]
    },
    {
      "cell_type": "code",
      "source": [
        "sns.scatterplot"
      ],
      "metadata": {
        "colab": {
          "base_uri": "https://localhost:8080/",
          "height": 221
        },
        "id": "mJO_UL1VIEcI",
        "outputId": "0fceb1be-d41c-4c0f-b123-b31b0a99a3c0"
      },
      "execution_count": 70,
      "outputs": [
        {
          "output_type": "execute_result",
          "data": {
            "text/plain": [
              "<function seaborn.relational.scatterplot(data=None, *, x=None, y=None, hue=None, size=None, style=None, palette=None, hue_order=None, hue_norm=None, sizes=None, size_order=None, size_norm=None, markers=True, style_order=None, legend='auto', ax=None, **kwargs)>"
            ],
            "text/html": [
              "<div style=\"max-width:800px; border: 1px solid var(--colab-border-color);\"><style>\n",
              "      pre.function-repr-contents {\n",
              "        overflow-x: auto;\n",
              "        padding: 8px 12px;\n",
              "        max-height: 500px;\n",
              "      }\n",
              "\n",
              "      pre.function-repr-contents.function-repr-contents-collapsed {\n",
              "        cursor: pointer;\n",
              "        max-height: 100px;\n",
              "      }\n",
              "    </style>\n",
              "    <pre style=\"white-space: initial; background:\n",
              "         var(--colab-secondary-surface-color); padding: 8px 12px;\n",
              "         border-bottom: 1px solid var(--colab-border-color);\"><b>seaborn.relational.scatterplot</b><br/>def scatterplot(data=None, *, x=None, y=None, hue=None, size=None, style=None, palette=None, hue_order=None, hue_norm=None, sizes=None, size_order=None, size_norm=None, markers=True, style_order=None, legend=&#x27;auto&#x27;, ax=None, **kwargs)</pre><pre class=\"function-repr-contents function-repr-contents-collapsed\" style=\"\"><a class=\"filepath\" style=\"display:none\" href=\"#\">/usr/local/lib/python3.10/dist-packages/seaborn/relational.py</a>Draw a scatter plot with possibility of several semantic groupings.\n",
              "\n",
              "The relationship between `x` and `y` can be shown for different subsets\n",
              "of the data using the `hue`, `size`, and `style` parameters. These\n",
              "parameters control what visual semantics are used to identify the different\n",
              "subsets. It is possible to show up to three dimensions independently by\n",
              "using all three semantic types, but this style of plot can be hard to\n",
              "interpret and is often ineffective. Using redundant semantics (i.e. both\n",
              "`hue` and `style` for the same variable) can be helpful for making\n",
              "graphics more accessible.\n",
              "\n",
              "See the :ref:`tutorial &lt;relational_tutorial&gt;` for more information.\n",
              "\n",
              "The default treatment of the `hue` (and to a lesser extent, `size`)\n",
              "semantic, if present, depends on whether the variable is inferred to\n",
              "represent &quot;numeric&quot; or &quot;categorical&quot; data. In particular, numeric variables\n",
              "are represented with a sequential colormap by default, and the legend\n",
              "entries show regular &quot;ticks&quot; with values that may or may not exist in the\n",
              "data. This behavior can be controlled through various parameters, as\n",
              "described and illustrated below.\n",
              "\n",
              "Parameters\n",
              "----------\n",
              "data : :class:`pandas.DataFrame`, :class:`numpy.ndarray`, mapping, or sequence\n",
              "    Input data structure. Either a long-form collection of vectors that can be\n",
              "    assigned to named variables or a wide-form dataset that will be internally\n",
              "    reshaped.\n",
              "x, y : vectors or keys in ``data``\n",
              "    Variables that specify positions on the x and y axes.\n",
              "hue : vector or key in `data`\n",
              "    Grouping variable that will produce points with different colors.\n",
              "    Can be either categorical or numeric, although color mapping will\n",
              "    behave differently in latter case.\n",
              "size : vector or key in `data`\n",
              "    Grouping variable that will produce points with different sizes.\n",
              "    Can be either categorical or numeric, although size mapping will\n",
              "    behave differently in latter case.\n",
              "style : vector or key in `data`\n",
              "    Grouping variable that will produce points with different markers.\n",
              "    Can have a numeric dtype but will always be treated as categorical.\n",
              "palette : string, list, dict, or :class:`matplotlib.colors.Colormap`\n",
              "    Method for choosing the colors to use when mapping the ``hue`` semantic.\n",
              "    String values are passed to :func:`color_palette`. List or dict values\n",
              "    imply categorical mapping, while a colormap object implies numeric mapping.\n",
              "hue_order : vector of strings\n",
              "    Specify the order of processing and plotting for categorical levels of the\n",
              "    ``hue`` semantic.\n",
              "hue_norm : tuple or :class:`matplotlib.colors.Normalize`\n",
              "    Either a pair of values that set the normalization range in data units\n",
              "    or an object that will map from data units into a [0, 1] interval. Usage\n",
              "    implies numeric mapping.\n",
              "sizes : list, dict, or tuple\n",
              "    An object that determines how sizes are chosen when `size` is used.\n",
              "    List or dict arguments should provide a size for each unique data value,\n",
              "    which forces a categorical interpretation. The argument may also be a\n",
              "    min, max tuple.\n",
              "size_order : list\n",
              "    Specified order for appearance of the `size` variable levels,\n",
              "    otherwise they are determined from the data. Not relevant when the\n",
              "    `size` variable is numeric.\n",
              "size_norm : tuple or Normalize object\n",
              "    Normalization in data units for scaling plot objects when the\n",
              "    `size` variable is numeric.\n",
              "markers : boolean, list, or dictionary\n",
              "    Object determining how to draw the markers for different levels of the\n",
              "    `style` variable. Setting to `True` will use default markers, or\n",
              "    you can pass a list of markers or a dictionary mapping levels of the\n",
              "    `style` variable to markers. Setting to `False` will draw\n",
              "    marker-less lines.  Markers are specified as in matplotlib.\n",
              "style_order : list\n",
              "    Specified order for appearance of the `style` variable levels\n",
              "    otherwise they are determined from the data. Not relevant when the\n",
              "    `style` variable is numeric.\n",
              "legend : &quot;auto&quot;, &quot;brief&quot;, &quot;full&quot;, or False\n",
              "    How to draw the legend. If &quot;brief&quot;, numeric `hue` and `size`\n",
              "    variables will be represented with a sample of evenly spaced values.\n",
              "    If &quot;full&quot;, every group will get an entry in the legend. If &quot;auto&quot;,\n",
              "    choose between brief or full representation based on number of levels.\n",
              "    If `False`, no legend data is added and no legend is drawn.\n",
              "ax : :class:`matplotlib.axes.Axes`\n",
              "    Pre-existing axes for the plot. Otherwise, call :func:`matplotlib.pyplot.gca`\n",
              "    internally.\n",
              "kwargs : key, value mappings\n",
              "    Other keyword arguments are passed down to\n",
              "    :meth:`matplotlib.axes.Axes.scatter`.\n",
              "\n",
              "Returns\n",
              "-------\n",
              ":class:`matplotlib.axes.Axes`\n",
              "    The matplotlib axes containing the plot.\n",
              "\n",
              "See Also\n",
              "--------\n",
              "lineplot : Plot data using lines.\n",
              "stripplot : Plot a categorical scatter with jitter.\n",
              "swarmplot : Plot a categorical scatter with non-overlapping points.\n",
              "\n",
              "Examples\n",
              "--------\n",
              "\n",
              ".. include:: ../docstrings/scatterplot.rst</pre>\n",
              "      <script>\n",
              "      if (google.colab.kernel.accessAllowed && google.colab.files && google.colab.files.view) {\n",
              "        for (const element of document.querySelectorAll('.filepath')) {\n",
              "          element.style.display = 'block'\n",
              "          element.onclick = (event) => {\n",
              "            event.preventDefault();\n",
              "            event.stopPropagation();\n",
              "            google.colab.files.view(element.textContent, 606);\n",
              "          };\n",
              "        }\n",
              "      }\n",
              "      for (const element of document.querySelectorAll('.function-repr-contents')) {\n",
              "        element.onclick = (event) => {\n",
              "          event.preventDefault();\n",
              "          event.stopPropagation();\n",
              "          element.classList.toggle('function-repr-contents-collapsed');\n",
              "        };\n",
              "      }\n",
              "      </script>\n",
              "      </div>"
            ]
          },
          "metadata": {},
          "execution_count": 70
        }
      ]
    },
    {
      "cell_type": "code",
      "source": [
        "( x=clustering_data['Distance from Residence to Work'],"
      ],
      "metadata": {
        "id": "lk0FSGanINc7"
      },
      "execution_count": 73,
      "outputs": []
    },
    {
      "cell_type": "code",
      "source": [
        "\n",
        "    y=clustering_data['Age'],"
      ],
      "metadata": {
        "id": "rQod9gNvIYDY"
      },
      "execution_count": 75,
      "outputs": []
    },
    {
      "source": [
        "\n",
        "clustering_data['Cluster'] = clusters\n",
        "\n",
        "plt.figure(figsize=(8, 6))\n",
        "sns.scatterplot(\n",
        "    x=clustering_data['Distance from Residence to Work'],\n",
        "    y=clustering_data['Age'],\n",
        "    hue=clustering_data['Cluster'],\n",
        "    palette='viridis'\n",
        ")\n",
        "plt.title('Clustering of Employees Based on Distance, Age, and Service Time')\n",
        "plt.xlabel('Distance from Residence to Work')\n",
        "plt.ylabel('Age')\n",
        "plt.legend(title='Cluster')\n",
        "plt.show()"
      ],
      "cell_type": "code",
      "metadata": {
        "colab": {
          "base_uri": "https://localhost:8080/",
          "height": 564
        },
        "id": "ke5qQoLKKLNL",
        "outputId": "a84251a0-fd41-4725-cf26-0a7155ead4e2"
      },
      "execution_count": 91,
      "outputs": [
        {
          "output_type": "display_data",
          "data": {
            "text/plain": [
              "<Figure size 800x600 with 1 Axes>"
            ],
            "image/png": "[encoded data removed]"
          },
          "metadata": {}
        }
      ]
    },
    {
      "cell_type": "code",
      "source": [
        "processed_file = \"Processed_Absenteeism_Data.csv\"\n",
        "clustering_data.to_csv(processed_file, index=False)\n",
        "print(f\"\\nProcessed data saved as {processed_file}\")"
      ],
      "metadata": {
        "colab": {
          "base_uri": "https://localhost:8080/"
        },
        "id": "7Kb6_zo3KZoL",
        "outputId": "1e74f354-87d3-4131-ae5b-fea004ae9f5d"
      },
      "execution_count": 92,
      "outputs": [
        {
          "output_type": "stream",
          "name": "stdout",
          "text": [
            "\n",
            "Processed data saved as Processed_Absenteeism_Data.csv\n"
          ]
        }
      ]
    }
  ]
}